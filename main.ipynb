{
 "cells": [
  {
   "cell_type": "code",
   "execution_count": 1,
   "outputs": [],
   "source": [
    "from tqdm import tqdm\n",
    "\n",
    "import torch\n",
    "from torch import optim\n",
    "from torch.utils.data import DataLoader\n",
    "from torchvision.models.detection.backbone_utils import resnet_fpn_backbone\n",
    "from torchvision.models.detection import MaskRCNN\n",
    "\n",
    "from maskrcnn import *"
   ],
   "metadata": {
    "collapsed": false,
    "ExecuteTime": {
     "end_time": "2024-06-28T07:20:52.402165Z",
     "start_time": "2024-06-28T07:20:51.012464Z"
    }
   },
   "id": "6fad02009ce56d10"
  },
  {
   "cell_type": "code",
   "execution_count": 2,
   "outputs": [],
   "source": [
    "train_root = \"data/Shampoo_5class.v2-only_non_defective-21-06-2024.coco/train\"\n",
    "val_root = \"data/Shampoo_5class.v2-only_non_defective-21-06-2024.coco/valid\"\n",
    "test_root = \"data/Shampoo_5class.v2-only_non_defective-21-06-2024.coco/test\"\n",
    "\n",
    "transform = Compose([\n",
    "    ToTensor(),\n",
    "    RandomHorizontalFlip(0.5),\n",
    "])\n",
    "\n",
    "train_dataset = CustomDataset(root=train_root, transforms=transform, max_samples=1)\n",
    "val_dataset = CustomDataset(root=val_root, transforms=transform, max_samples=1)\n",
    "test_dataset = CustomDataset(root=test_root, transforms=transform, max_samples=1)"
   ],
   "metadata": {
    "collapsed": false,
    "ExecuteTime": {
     "end_time": "2024-06-28T07:20:52.482613Z",
     "start_time": "2024-06-28T07:20:52.399670Z"
    }
   },
   "id": "77926a55ddadf7c5"
  },
  {
   "cell_type": "code",
   "execution_count": 3,
   "outputs": [],
   "source": [
    "def collate_fn(batch):\n",
    "    return tuple(zip(*batch))\n",
    "\n",
    "\n",
    "train_loader = DataLoader(train_dataset, batch_size=2048, shuffle=True, collate_fn=collate_fn)\n",
    "val_loader = DataLoader(val_dataset, batch_size=2048, shuffle=False, collate_fn=collate_fn)\n",
    "test_loader = DataLoader(test_dataset, batch_size=2048, shuffle=False, collate_fn=collate_fn)"
   ],
   "metadata": {
    "collapsed": false,
    "ExecuteTime": {
     "end_time": "2024-06-28T07:20:52.486928Z",
     "start_time": "2024-06-28T07:20:52.483604Z"
    }
   },
   "id": "bd615ac75aec06f8"
  },
  {
   "cell_type": "code",
   "execution_count": 4,
   "outputs": [],
   "source": [
    "if torch.cuda.is_available():\n",
    "    device = torch.device(\"cuda\")\n",
    "elif torch.backends.mps.is_available():\n",
    "    # device = torch.device(\"mps\")\n",
    "    device = torch.device(\"cpu\")\n",
    "else:\n",
    "    device = torch.device(\"cpu\")"
   ],
   "metadata": {
    "collapsed": false,
    "ExecuteTime": {
     "end_time": "2024-06-28T07:20:52.498085Z",
     "start_time": "2024-06-28T07:20:52.496492Z"
    }
   },
   "id": "89ee48e6abe9c3a8"
  },
  {
   "cell_type": "code",
   "execution_count": null,
   "outputs": [],
   "source": [
    "backbone = resnet_fpn_backbone('resnet50', pretrained=True)\n",
    "model = MaskRCNN(backbone, num_classes=6)\n",
    "model.to(device)\n",
    "\n",
    "optimizer = optim.SGD(model.parameters(), lr=0.005, momentum=0.9, weight_decay=0.0005)"
   ],
   "metadata": {
    "collapsed": false
   },
   "id": "e23405a693300ca8"
  },
  {
   "cell_type": "code",
   "execution_count": null,
   "outputs": [],
   "source": [
    "EPOCHS = 1\n",
    "\n",
    "model.train()\n",
    "for epoch in tqdm(range(EPOCHS)):\n",
    "    train_loss = 0.0\n",
    "    \n",
    "    for images, targets in tqdm(train_loader):\n",
    "        images = list(image.to(device) for image in images)\n",
    "        targets = [{k: v.to(device) for k, v in t.items()} for t in targets]\n",
    "\n",
    "        optimizer.zero_grad()\n",
    "        loss_dict = model(images, targets)\n",
    "\n",
    "        # Compute total loss\n",
    "        losses = sum(loss for loss in loss_dict.values())\n",
    "\n",
    "        # Print individual losses for debugging or monitoring\n",
    "        for key, value in loss_dict.items():\n",
    "            print(f\"{key}: {value.item()}\")\n",
    "        print(\"------------------------------------------------->\")\n",
    "\n",
    "        losses.backward()\n",
    "        optimizer.step()\n",
    "\n",
    "        train_loss += losses.item()\n",
    "\n",
    "    train_loss /= len(train_loader)"
   ],
   "metadata": {
    "collapsed": false
   },
   "id": "25526d6f1554e68a"
  },
  {
   "cell_type": "code",
   "execution_count": 8,
   "outputs": [
    {
     "name": "stderr",
     "output_type": "stream",
     "text": [
      "  0%|          | 0/1 [00:01<?, ?it/s]"
     ]
    },
    {
     "name": "stdout",
     "output_type": "stream",
     "text": [
      "{'boxes': tensor([[4.8168e+02, 3.9948e+02, 6.5818e+02, 4.8509e+02],\n",
      "        [4.6477e+02, 4.3070e+02, 6.4606e+02, 5.1593e+02],\n",
      "        [2.0057e+03, 5.6887e+01, 2.0688e+03, 1.1683e+02],\n",
      "        [4.8436e+02, 4.7858e+02, 6.6091e+02, 5.6511e+02],\n",
      "        [5.1432e+02, 5.2811e+02, 5.7222e+02, 5.8795e+02],\n",
      "        [2.0278e+03, 5.5685e+01, 2.0918e+03, 1.1625e+02],\n",
      "        [7.7886e+01, 4.3289e+02, 2.4684e+02, 5.1135e+02],\n",
      "        [1.8858e+03, 5.0925e+02, 2.0627e+03, 5.9290e+02],\n",
      "        [1.5789e+03, 3.4311e+02, 1.8335e+03, 5.8596e+02],\n",
      "        [1.6233e+03, 4.5762e+02, 1.6835e+03, 5.1936e+02],\n",
      "        [1.6451e+03, 4.6380e+02, 1.7064e+03, 5.2271e+02],\n",
      "        [6.2025e+01, 1.8235e+02, 3.4062e+02, 4.2989e+02],\n",
      "        [8.0622e+02, 4.6136e+02, 9.8349e+02, 5.5147e+02],\n",
      "        [1.6223e+03, 4.8060e+02, 1.6841e+03, 5.4114e+02],\n",
      "        [4.5638e+02, 5.0625e+02, 6.2649e+02, 5.8809e+02],\n",
      "        [1.9394e+03, 4.1227e+02, 2.1070e+03, 5.0053e+02],\n",
      "        [1.7302e+02, 5.5923e+02, 3.4372e+02, 6.4009e+02],\n",
      "        [2.3881e+03, 1.8451e+02, 2.5422e+03, 2.6636e+02],\n",
      "        [1.4580e+03, 1.4726e+00, 1.5427e+03, 1.4865e+02],\n",
      "        [6.8268e+01, 5.5121e+02, 2.3510e+02, 6.3628e+02],\n",
      "        [7.8990e+02, 3.3219e+02, 1.0370e+03, 5.7954e+02],\n",
      "        [3.4857e+02, 3.2945e+02, 6.0769e+02, 5.7829e+02],\n",
      "        [4.3733e+02, 6.5130e+02, 5.2504e+02, 6.9186e+02],\n",
      "        [2.0856e+03, 5.5498e+01, 2.1511e+03, 1.1657e+02],\n",
      "        [1.5020e+03, 9.2141e+01, 1.5620e+03, 1.5220e+02],\n",
      "        [2.8828e+01, 6.9197e+02, 1.9172e+02, 7.7596e+02],\n",
      "        [2.5146e+03, 7.4408e+02, 2.5436e+03, 7.8374e+02],\n",
      "        [2.3390e+03, 2.4429e+02, 2.5143e+03, 3.2611e+02],\n",
      "        [5.1140e+02, 4.4616e+02, 6.8925e+02, 5.2716e+02],\n",
      "        [1.6196e+03, 2.2134e+02, 1.7094e+03, 2.6215e+02],\n",
      "        [1.4181e+03, 3.4193e+02, 1.6809e+03, 5.9267e+02],\n",
      "        [1.7605e+02, 5.3128e+02, 2.6165e+02, 7.0088e+02],\n",
      "        [2.1296e+03, 6.2615e+02, 2.1902e+03, 6.8526e+02],\n",
      "        [1.4254e+03, 1.6414e+00, 1.5107e+03, 1.4964e+02],\n",
      "        [2.5138e+03, 7.2134e+02, 2.5435e+03, 7.6082e+02],\n",
      "        [2.9589e+02, 6.1868e+02, 4.5848e+02, 6.9973e+02],\n",
      "        [2.0326e+03, 5.4321e+02, 2.1944e+03, 6.2122e+02],\n",
      "        [1.2778e+03, 6.6034e+02, 1.3618e+03, 7.8800e+02],\n",
      "        [6.7545e+02, 3.2656e+01, 7.6076e+02, 2.0464e+02],\n",
      "        [9.7124e+02, 6.3714e+02, 1.0562e+03, 7.8800e+02],\n",
      "        [3.8510e+02, 6.5685e+02, 4.7336e+02, 6.9876e+02],\n",
      "        [2.4522e+03, 6.9248e+02, 2.5429e+03, 7.7621e+02],\n",
      "        [1.5437e+02, 6.0294e+02, 3.3126e+02, 6.8621e+02],\n",
      "        [1.5976e+03, 4.3223e+02, 1.6574e+03, 4.9325e+02],\n",
      "        [1.5644e+03, 4.4800e+02, 1.6251e+03, 5.0818e+02],\n",
      "        [4.6401e+02, 3.5376e+02, 6.4371e+02, 4.3959e+02],\n",
      "        [9.0400e+01, 4.2326e+02, 1.5105e+02, 4.8695e+02],\n",
      "        [1.9497e+03, 4.4389e+02, 2.2843e+03, 6.1062e+02],\n",
      "        [5.4039e+02, 3.3138e+02, 6.2314e+02, 5.1282e+02],\n",
      "        [2.4783e+03, 7.3654e+02, 2.5436e+03, 7.7693e+02],\n",
      "        [1.5907e+03, 4.7901e+02, 1.6521e+03, 5.3725e+02],\n",
      "        [5.7109e+02, 3.3685e+02, 6.5391e+02, 5.1879e+02],\n",
      "        [1.5085e+03, 3.1171e+02, 1.5926e+03, 4.8434e+02],\n",
      "        [1.5998e+02, 6.9256e+02, 3.2985e+02, 7.7757e+02],\n",
      "        [4.5298e+02, 7.2006e+02, 5.4406e+02, 7.6164e+02],\n",
      "        [6.1999e+02, 5.6466e+02, 7.0502e+02, 7.3832e+02],\n",
      "        [9.4614e+02, 4.6962e+02, 1.0312e+03, 6.5323e+02],\n",
      "        [1.9828e+03, 6.2657e+01, 2.0462e+03, 1.2169e+02],\n",
      "        [0.0000e+00, 3.6963e+02, 2.4295e+02, 5.4581e+02],\n",
      "        [8.1493e+01, 5.0525e+02, 1.6492e+02, 6.7772e+02],\n",
      "        [2.3415e+03, 2.1273e+02, 2.5125e+03, 2.9686e+02],\n",
      "        [2.2594e+02, 6.1721e+02, 3.9195e+02, 6.9978e+02],\n",
      "        [1.3123e+02, 6.3251e+02, 2.9984e+02, 7.1873e+02],\n",
      "        [0.0000e+00, 4.1600e+02, 9.0395e+01, 5.0323e+02],\n",
      "        [4.6715e+01, 4.5040e+02, 2.1207e+02, 5.3096e+02],\n",
      "        [1.9778e+03, 5.2801e+02, 2.1485e+03, 6.0935e+02],\n",
      "        [0.0000e+00, 3.9836e+02, 2.9183e+02, 5.8329e+02],\n",
      "        [5.2595e+01, 4.1604e+02, 2.1784e+02, 4.9564e+02],\n",
      "        [6.6277e+02, 1.4447e+02, 7.2719e+02, 2.0614e+02],\n",
      "        [4.6708e+02, 1.3808e+02, 6.3891e+02, 2.2414e+02],\n",
      "        [2.3475e+03, 3.0353e+02, 2.5235e+03, 3.8875e+02],\n",
      "        [1.9546e+03, 3.2782e+01, 2.1335e+03, 1.2118e+02],\n",
      "        [1.6619e+03, 4.2608e+02, 1.7252e+03, 4.8587e+02],\n",
      "        [6.8640e+00, 4.1740e+02, 1.7895e+02, 4.9984e+02],\n",
      "        [6.2274e+02, 4.1507e+02, 7.9352e+02, 4.9748e+02],\n",
      "        [3.9234e+02, 5.4001e+02, 5.6395e+02, 6.2086e+02],\n",
      "        [8.1113e+02, 4.7628e+02, 8.9566e+02, 6.4945e+02],\n",
      "        [1.1614e+02, 4.6288e+02, 2.0264e+02, 6.3896e+02],\n",
      "        [1.2927e+02, 5.3765e+02, 3.0037e+02, 6.1933e+02],\n",
      "        [1.9599e+03, 1.5799e+02, 2.1175e+03, 5.1336e+02],\n",
      "        [0.0000e+00, 2.3191e+02, 4.2361e+02, 7.0677e+02],\n",
      "        [5.9691e+02, 4.4731e+02, 6.8345e+02, 6.2623e+02],\n",
      "        [1.2659e+02, 5.6890e+02, 3.0102e+02, 6.5301e+02],\n",
      "        [4.3391e+02, 1.4222e-01, 4.9482e+02, 5.3113e+01],\n",
      "        [1.5944e+02, 3.9987e+02, 2.2040e+02, 4.6078e+02],\n",
      "        [1.0920e+03, 3.3818e+02, 1.3460e+03, 5.8090e+02],\n",
      "        [4.7285e+02, 3.4362e+02, 7.2886e+02, 5.8001e+02],\n",
      "        [2.2176e+03, 4.0497e+00, 2.4002e+03, 9.1119e+01],\n",
      "        [2.0494e+03, 7.0905e+01, 2.1135e+03, 1.3344e+02],\n",
      "        [1.4739e+03, 1.0846e+02, 1.5560e+03, 2.8272e+02],\n",
      "        [1.0867e+02, 4.4966e+02, 2.7447e+02, 5.2997e+02],\n",
      "        [1.5683e+03, 4.7873e+02, 1.6308e+03, 5.3899e+02],\n",
      "        [1.7845e+03, 4.7857e+02, 1.9602e+03, 5.6126e+02],\n",
      "        [1.7184e+02, 5.2577e+02, 3.4434e+02, 6.0679e+02],\n",
      "        [1.4427e+03, 1.0832e+02, 1.5277e+03, 2.8594e+02],\n",
      "        [6.4167e+02, 1.8164e+02, 7.0813e+02, 2.4298e+02],\n",
      "        [2.0198e+03, 8.7230e+01, 2.0841e+03, 1.4642e+02],\n",
      "        [2.3072e+03, 3.2081e+02, 2.4723e+03, 4.0465e+02],\n",
      "        [1.6536e+03, 4.8173e+02, 1.7145e+03, 5.4005e+02],\n",
      "        [5.4038e+02, 1.3499e+02, 7.1793e+02, 2.2381e+02]]), 'labels': tensor([1, 1, 1, 1, 1, 1, 1, 1, 1, 1, 1, 1, 1, 1, 1, 4, 1, 1, 2, 1, 1, 1, 1, 1,\n",
      "        2, 1, 1, 1, 1, 1, 1, 1, 1, 2, 1, 1, 1, 1, 2, 1, 1, 1, 1, 1, 1, 1, 1, 1,\n",
      "        1, 1, 1, 1, 4, 1, 1, 1, 1, 1, 4, 1, 1, 1, 1, 1, 1, 1, 1, 4, 2, 2, 2, 1,\n",
      "        1, 1, 1, 1, 1, 2, 1, 1, 1, 1, 1, 1, 4, 1, 1, 1, 1, 2, 1, 1, 2, 1, 2, 2,\n",
      "        2, 2, 1, 2]), 'scores': tensor([0.2013, 0.1980, 0.1970, 0.1967, 0.1965, 0.1938, 0.1930, 0.1926, 0.1918,\n",
      "        0.1917, 0.1913, 0.1912, 0.1910, 0.1909, 0.1907, 0.1906, 0.1902, 0.1901,\n",
      "        0.1900, 0.1900, 0.1899, 0.1899, 0.1898, 0.1897, 0.1897, 0.1897, 0.1896,\n",
      "        0.1896, 0.1896, 0.1895, 0.1894, 0.1891, 0.1891, 0.1888, 0.1888, 0.1888,\n",
      "        0.1888, 0.1888, 0.1887, 0.1886, 0.1886, 0.1883, 0.1881, 0.1881, 0.1881,\n",
      "        0.1879, 0.1879, 0.1879, 0.1878, 0.1877, 0.1876, 0.1876, 0.1875, 0.1875,\n",
      "        0.1874, 0.1874, 0.1871, 0.1870, 0.1870, 0.1869, 0.1869, 0.1868, 0.1868,\n",
      "        0.1867, 0.1867, 0.1866, 0.1865, 0.1865, 0.1862, 0.1862, 0.1862, 0.1861,\n",
      "        0.1860, 0.1860, 0.1859, 0.1858, 0.1858, 0.1858, 0.1857, 0.1854, 0.1854,\n",
      "        0.1854, 0.1853, 0.1852, 0.1852, 0.1852, 0.1851, 0.1851, 0.1850, 0.1850,\n",
      "        0.1850, 0.1850, 0.1848, 0.1848, 0.1847, 0.1847, 0.1847, 0.1847, 0.1846,\n",
      "        0.1846]), 'masks': tensor([[[[0., 0., 0.,  ..., 0., 0., 0.],\n",
      "          [0., 0., 0.,  ..., 0., 0., 0.],\n",
      "          [0., 0., 0.,  ..., 0., 0., 0.],\n",
      "          ...,\n",
      "          [0., 0., 0.,  ..., 0., 0., 0.],\n",
      "          [0., 0., 0.,  ..., 0., 0., 0.],\n",
      "          [0., 0., 0.,  ..., 0., 0., 0.]]],\n",
      "\n",
      "\n",
      "        [[[0., 0., 0.,  ..., 0., 0., 0.],\n",
      "          [0., 0., 0.,  ..., 0., 0., 0.],\n",
      "          [0., 0., 0.,  ..., 0., 0., 0.],\n",
      "          ...,\n",
      "          [0., 0., 0.,  ..., 0., 0., 0.],\n",
      "          [0., 0., 0.,  ..., 0., 0., 0.],\n",
      "          [0., 0., 0.,  ..., 0., 0., 0.]]],\n",
      "\n",
      "\n",
      "        [[[0., 0., 0.,  ..., 0., 0., 0.],\n",
      "          [0., 0., 0.,  ..., 0., 0., 0.],\n",
      "          [0., 0., 0.,  ..., 0., 0., 0.],\n",
      "          ...,\n",
      "          [0., 0., 0.,  ..., 0., 0., 0.],\n",
      "          [0., 0., 0.,  ..., 0., 0., 0.],\n",
      "          [0., 0., 0.,  ..., 0., 0., 0.]]],\n",
      "\n",
      "\n",
      "        ...,\n",
      "\n",
      "\n",
      "        [[[0., 0., 0.,  ..., 0., 0., 0.],\n",
      "          [0., 0., 0.,  ..., 0., 0., 0.],\n",
      "          [0., 0., 0.,  ..., 0., 0., 0.],\n",
      "          ...,\n",
      "          [0., 0., 0.,  ..., 0., 0., 0.],\n",
      "          [0., 0., 0.,  ..., 0., 0., 0.],\n",
      "          [0., 0., 0.,  ..., 0., 0., 0.]]],\n",
      "\n",
      "\n",
      "        [[[0., 0., 0.,  ..., 0., 0., 0.],\n",
      "          [0., 0., 0.,  ..., 0., 0., 0.],\n",
      "          [0., 0., 0.,  ..., 0., 0., 0.],\n",
      "          ...,\n",
      "          [0., 0., 0.,  ..., 0., 0., 0.],\n",
      "          [0., 0., 0.,  ..., 0., 0., 0.],\n",
      "          [0., 0., 0.,  ..., 0., 0., 0.]]],\n",
      "\n",
      "\n",
      "        [[[0., 0., 0.,  ..., 0., 0., 0.],\n",
      "          [0., 0., 0.,  ..., 0., 0., 0.],\n",
      "          [0., 0., 0.,  ..., 0., 0., 0.],\n",
      "          ...,\n",
      "          [0., 0., 0.,  ..., 0., 0., 0.],\n",
      "          [0., 0., 0.,  ..., 0., 0., 0.],\n",
      "          [0., 0., 0.,  ..., 0., 0., 0.]]]])}\n"
     ]
    },
    {
     "name": "stderr",
     "output_type": "stream",
     "text": [
      "\n"
     ]
    },
    {
     "ename": "AttributeError",
     "evalue": "'list' object has no attribute 'values'",
     "output_type": "error",
     "traceback": [
      "\u001B[0;31m---------------------------------------------------------------------------\u001B[0m",
      "\u001B[0;31mAttributeError\u001B[0m                            Traceback (most recent call last)",
      "Cell \u001B[0;32mIn[8], line 12\u001B[0m\n\u001B[1;32m     10\u001B[0m         \u001B[38;5;28;01mfor\u001B[39;00m item \u001B[38;5;129;01min\u001B[39;00m loss_dict:\n\u001B[1;32m     11\u001B[0m             \u001B[38;5;28mprint\u001B[39m(item)\n\u001B[0;32m---> 12\u001B[0m         losses \u001B[38;5;241m=\u001B[39m \u001B[38;5;28msum\u001B[39m(loss \u001B[38;5;28;01mfor\u001B[39;00m loss \u001B[38;5;129;01min\u001B[39;00m \u001B[43mloss_dict\u001B[49m\u001B[38;5;241;43m.\u001B[39;49m\u001B[43mvalues\u001B[49m())\n\u001B[1;32m     14\u001B[0m         val_loss \u001B[38;5;241m+\u001B[39m\u001B[38;5;241m=\u001B[39m losses\u001B[38;5;241m.\u001B[39mitem()\n\u001B[1;32m     16\u001B[0m val_loss \u001B[38;5;241m/\u001B[39m\u001B[38;5;241m=\u001B[39m \u001B[38;5;28mlen\u001B[39m(val_loader)\n",
      "\u001B[0;31mAttributeError\u001B[0m: 'list' object has no attribute 'values'"
     ]
    }
   ],
   "source": [
    "# TODO move to inside train loop, here for testing purposes\n",
    "# TODO migrate to PyTorch Lightning?\n",
    "\n",
    "model.eval()\n",
    "val_loss = 0.0\n",
    "\n",
    "with torch.no_grad():\n",
    "    for images, targets in tqdm(val_loader):\n",
    "        images = list(image.to(device) for image in images)\n",
    "        targets = [{k: v.to(device) for k, v in t.items()} for t in targets]\n",
    "\n",
    "        loss_dict = model(images, targets)\n",
    "        for item in loss_dict:\n",
    "            print(item)\n",
    "            \n",
    "        # TODO loss must be calculated here\n",
    "        losses = sum(loss for loss in loss_dict.values())\n",
    "\n",
    "        val_loss += losses.item()\n",
    "\n",
    "val_loss /= len(val_loader)\n",
    "\n",
    "print(f\"Epoch {epoch + 1}/{EPOCHS}, Train Loss: {train_loss}, Val Loss: {val_loss}\")"
   ],
   "metadata": {
    "collapsed": false,
    "ExecuteTime": {
     "end_time": "2024-06-28T07:21:52.488423Z",
     "start_time": "2024-06-28T07:21:51.284135Z"
    }
   },
   "id": "1e9c3f7cfd1541fb"
  }
 ],
 "metadata": {
  "kernelspec": {
   "display_name": "Python 3",
   "language": "python",
   "name": "python3"
  },
  "language_info": {
   "codemirror_mode": {
    "name": "ipython",
    "version": 2
   },
   "file_extension": ".py",
   "mimetype": "text/x-python",
   "name": "python",
   "nbconvert_exporter": "python",
   "pygments_lexer": "ipython2",
   "version": "2.7.6"
  }
 },
 "nbformat": 4,
 "nbformat_minor": 5
}
